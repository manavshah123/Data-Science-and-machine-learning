{
  "nbformat": 4,
  "nbformat_minor": 0,
  "metadata": {
    "colab": {
      "name": "DS/MLprac2.ipynb",
      "provenance": [],
      "mount_file_id": "1Aagd4iIgIleNbWEz6lPymWFD1H9gQb_Q",
      "authorship_tag": "ABX9TyOKpW2VsvWr88klhIN8Y3Pa",
      "include_colab_link": true
    },
    "kernelspec": {
      "name": "python3",
      "display_name": "Python 3"
    }
  },
  "cells": [
    {
      "cell_type": "markdown",
      "metadata": {
        "id": "view-in-github",
        "colab_type": "text"
      },
      "source": [
        "<a href=\"https://colab.research.google.com/github/manavshah123/Data-Science-and-machine-learning/blob/main/DS_MLprac2.ipynb\" target=\"_parent\"><img src=\"https://colab.research.google.com/assets/colab-badge.svg\" alt=\"Open In Colab\"/></a>"
      ]
    },
    {
      "cell_type": "code",
      "metadata": {
        "colab": {
          "base_uri": "https://localhost:8080/"
        },
        "id": "jUilbPOo2sAK",
        "outputId": "708faeb1-0193-4de8-aa28-522e5a0bfc66"
      },
      "source": [
        "# Anaconda framework\r\n",
        "import numpy as np\r\n",
        "import matplotlib. pyplot as pit\r\n",
        "import pandas as pd\r\n",
        "\r\n",
        "#Classes and inbuilt methods\r\n",
        "#Importing the dataset\r\n",
        "dataset = pd. read_csv( '/content/drive/MyDrive/Colab Notebooks/Dataset/dataset1.csv' ) # XLSX read_ex\r\n",
        "dataset . shape\r\n",
        "# divide my dataset into 2 parts - input and output\r\n",
        "\r\n",
        "dataset . info( )\r\n",
        "x = dataset . iloc[ :, :-1]. values\r\n",
        "y = dataset . iloc[ :, -1]. values\r\n",
        "\r\n",
        "\r\n",
        "from sklearn.impute import SimpleImputer\r\n",
        "imputer = SimpleImputer(missing_values = np.nan, strategy = 'mean' )\r\n",
        "imputer = imputer.fit(x[: , 1:3])\r\n",
        "x[ :, 1:3] = imputer . transform(x[ : , 1:3])\r\n",
        "print(x)\r\n",
        "\r\n",
        "from sklearn. preprocessing import LabelEncoder\r\n",
        "labelencoder_x = LabelEncoder()\r\n",
        "x[:, 0] = labelencoder_x. fit_transform(x[: , 0])\r\n",
        "print (x)\r\n",
        "\r\n",
        "from sklearn.model_selection import train_test_split\r\n",
        "x_train,x_test,y_train,y_test=train_test_split(x,y,test_size=0.2,random_state=0)\r\n",
        "\r\n",
        "\r\n",
        "from sklearn. preprocessing import StandardScaler\r\n",
        "sc_x = StandardScaler()\r\n",
        "x_train = sc_x. fit_transform(x_train)\r\n",
        "x_test = sc_x. transform(x_test)\r\n",
        "\r\n",
        "\r\n",
        "dataset = pd.read_csv('/content/drive/MyDrive/Colab Notebooks/Dataset/dataset2.csv')\r\n",
        "x=dataset.iloc[:, :].values\r\n",
        "\r\n",
        "#Encoding categorical data\r\n",
        "from sklearn. preprocessing import LabelEncoder, OneHotEncoder\r\n",
        "from sklearn. compose import ColumnTransformer\r\n",
        "transform = ColumnTransformer([ (\"Col 0\", OneHotEncoder( ) , [0]) ],remainder = 'passthrough')\r\n",
        "x= transform. fit_transform(x)\r\n",
        "transform = ColumnTransformer( [ (\"Column 4 converted\", OneHotEncoder ( ) , [4]) ],remainder = 'passthrough' )\r\n",
        "x= transform. fit_transform(x)\r\n",
        "\r\n",
        "transform = ColumnTransformer([(\"Outlook_OLO_OL1\", OneHotEncoder ( ) , [6]) ],remainder = 'passthrough')\r\n",
        "x = transform. fit_transform(x)\r\n",
        "print (x. astype(int) )"
      ],
      "execution_count": null,
      "outputs": [
        {
          "output_type": "stream",
          "text": [
            "<class 'pandas.core.frame.DataFrame'>\n",
            "RangeIndex: 10 entries, 0 to 9\n",
            "Data columns (total 4 columns):\n",
            " #   Column     Non-Null Count  Dtype  \n",
            "---  ------     --------------  -----  \n",
            " 0   Country    10 non-null     object \n",
            " 1   Age        9 non-null      float64\n",
            " 2   Salary     9 non-null      float64\n",
            " 3   Purchased  10 non-null     object \n",
            "dtypes: float64(2), object(2)\n",
            "memory usage: 448.0+ bytes\n",
            "[['France' 44.0 72000.0]\n",
            " ['Spain' 27.0 48000.0]\n",
            " ['Germany' 30.0 54000.0]\n",
            " ['Spain' 38.0 61000.0]\n",
            " ['Germany' 40.0 63777.77777777778]\n",
            " ['France' 35.0 58000.0]\n",
            " ['Spain' 38.77777777777778 52000.0]\n",
            " ['France' 48.0 79000.0]\n",
            " ['Germany' 50.0 83000.0]\n",
            " ['France' 37.0 67000.0]]\n",
            "[[0 44.0 72000.0]\n",
            " [2 27.0 48000.0]\n",
            " [1 30.0 54000.0]\n",
            " [2 38.0 61000.0]\n",
            " [1 40.0 63777.77777777778]\n",
            " [0 35.0 58000.0]\n",
            " [2 38.77777777777778 52000.0]\n",
            " [0 48.0 79000.0]\n",
            " [1 50.0 83000.0]\n",
            " [0 37.0 67000.0]]\n",
            "[[1 0 0 0 0 0 0 1 0 0 1]\n",
            " [0 1 0 0 0 0 0 1 0 0 1]\n",
            " [0 0 1 0 0 1 0 0 1 0 0]\n",
            " [0 0 0 1 0 0 1 0 0 1 0]\n",
            " [0 0 0 0 1 0 1 0 0 1 0]\n",
            " [0 1 0 0 0 0 1 0 0 1 0]\n",
            " [0 0 1 0 0 1 0 0 1 0 0]\n",
            " [1 0 0 0 0 0 0 1 0 0 1]\n",
            " [0 1 0 0 0 0 0 1 0 0 1]\n",
            " [0 0 1 0 0 0 1 0 0 1 0]\n",
            " [0 0 0 1 0 0 0 1 0 0 1]\n",
            " [0 1 0 0 0 1 0 0 1 0 0]\n",
            " [1 0 0 0 0 1 0 0 1 0 0]\n",
            " [0 0 1 0 0 0 1 0 0 1 0]]\n"
          ],
          "name": "stdout"
        }
      ]
    }
  ]
}