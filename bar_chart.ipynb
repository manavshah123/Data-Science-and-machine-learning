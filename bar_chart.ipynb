{
  "nbformat": 4,
  "nbformat_minor": 0,
  "metadata": {
    "colab": {
      "name": "bar chart.ipynb",
      "provenance": [],
      "authorship_tag": "ABX9TyMRhonZs+HvU3MVfpJotXZM",
      "include_colab_link": true
    },
    "kernelspec": {
      "name": "python3",
      "display_name": "Python 3"
    }
  },
  "cells": [
    {
      "cell_type": "markdown",
      "metadata": {
        "id": "view-in-github",
        "colab_type": "text"
      },
      "source": [
        "<a href=\"https://colab.research.google.com/github/manavshah123/Data-Science-and-machine-learning/blob/main/bar_chart.ipynb\" target=\"_parent\"><img src=\"https://colab.research.google.com/assets/colab-badge.svg\" alt=\"Open In Colab\"/></a>"
      ]
    },
    {
      "cell_type": "code",
      "metadata": {
        "colab": {
          "base_uri": "https://localhost:8080/",
          "height": 282
        },
        "id": "FUdvt9m_vcw7",
        "outputId": "1ddf6e9a-3fbf-4edf-cb8d-160198af6183"
      },
      "source": [
        "import matplotlib.pyplot as plt\r\n",
        "\r\n",
        "label = ['A','B','C']\r\n",
        "values = [1,4,2]\r\n",
        "\r\n",
        "plt.bar(label,values)\r\n",
        "plt.figure(figsize=(6,4))\r\n",
        "plt.show()"
      ],
      "execution_count": 2,
      "outputs": [
        {
          "output_type": "display_data",
          "data": {
            "image/png": "[encoded data removed]",
            "text/plain": [
              "<Figure size 432x288 with 1 Axes>"
            ]
          },
          "metadata": {
            "tags": [],
            "needs_background": "light"
          }
        },
        {
          "output_type": "display_data",
          "data": {
            "text/plain": [
              "<Figure size 432x288 with 0 Axes>"
            ]
          },
          "metadata": {
            "tags": []
          }
        }
      ]
    },
    {
      "cell_type": "code",
      "metadata": {
        "colab": {
          "base_uri": "https://localhost:8080/",
          "height": 282
        },
        "id": "kzqcOOClv88N",
        "outputId": "9b877a02-2d0a-4644-b3b8-47e9b098a61b"
      },
      "source": [
        "import matplotlib.pyplot as plt\r\n",
        "\r\n",
        "label = ['A','B','C']\r\n",
        "values = [1,4,2]\r\n",
        "\r\n",
        "bars = plt.bar(label,values)\r\n",
        "\r\n",
        "bars[0].set_hatch('/')\r\n",
        "bars[1].set_hatch('*')\r\n",
        "bars[2].set_hatch('.')\r\n",
        "plt.figure(figsize=(6,4))\r\n",
        "plt.show()"
      ],
      "execution_count": 5,
      "outputs": [
        {
          "output_type": "display_data",
          "data": {
            "image/png": "[encoded data removed]",
            "text/plain": [
              "<Figure size 432x288 with 1 Axes>"
            ]
          },
          "metadata": {
            "tags": [],
            "needs_background": "light"
          }
        },
        {
          "output_type": "display_data",
          "data": {
            "text/plain": [
              "<Figure size 432x288 with 0 Axes>"
            ]
          },
          "metadata": {
            "tags": []
          }
        }
      ]
    },
    {
      "cell_type": "code",
      "metadata": {
        "id": "t_IysDAww9Uq"
      },
      "source": [
        ""
      ],
      "execution_count": null,
      "outputs": []
    }
  ]
}