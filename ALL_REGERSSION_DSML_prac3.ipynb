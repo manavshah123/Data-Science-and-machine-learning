{
  "nbformat": 4,
  "nbformat_minor": 0,
  "metadata": {
    "colab": {
      "name": "ALL REGERSSION DSML prac3.ipynb",
      "provenance": [],
      "collapsed_sections": [],
      "mount_file_id": "1rYT4MpvCjx2S7wn1vhiqrcfMSIffxR8B",
      "authorship_tag": "ABX9TyOcJi0ULiYz/3XypSV9vbpF",
      "include_colab_link": true
    },
    "kernelspec": {
      "name": "python3",
      "display_name": "Python 3"
    }
  },
  "cells": [
    {
      "cell_type": "markdown",
      "metadata": {
        "id": "view-in-github",
        "colab_type": "text"
      },
      "source": [
        "<a href=\"https://colab.research.google.com/github/manavshah123/Data-Science-and-machine-learning/blob/main/ALL_REGERSSION_DSML_prac3.ipynb\" target=\"_parent\"><img src=\"https://colab.research.google.com/assets/colab-badge.svg\" alt=\"Open In Colab\"/></a>"
      ]
    },
    {
      "cell_type": "code",
      "metadata": {
        "colab": {
          "base_uri": "https://localhost:8080/",
          "height": 794
        },
        "id": "Ga54gu8FWPqx",
        "outputId": "b63cc4ae-0437-4996-ac75-b24e484eabdc"
      },
      "source": [
        "import pandas as pd\r\n",
        "import matplotlib.pyplot as plt\r\n",
        "dataset = pd.read_csv('/content/drive/MyDrive/Colab Notebooks/Dataset/dataset3.csv')\r\n",
        "\r\n",
        "#just for check\r\n",
        "\r\n",
        "dataset.shape\r\n",
        "dataset.info()\r\n",
        "\r\n",
        "#-------------------\r\n",
        "#split data set\r\n",
        "\r\n",
        "x = dataset.iloc[:, :-1].values\r\n",
        "y = dataset.iloc[:,1].values\r\n",
        "\r\n",
        "print(x.ndim)\r\n",
        "print(y.ndim)\r\n",
        "\r\n",
        "#-----------------------\r\n",
        "#split for training the model\r\n",
        "\r\n",
        "from sklearn.model_selection import train_test_split\r\n",
        "x_train,x_test,y_train,y_test=train_test_split(x,y,test_size=1/3,random_state=0)\r\n",
        "\r\n",
        "# y = mx + c - simple linear regreesiom\r\n",
        "# y = m1x1 + m2x2 + m3x3 + ...+mnxn + c - multi linear regression\r\n",
        "# salary = m * Yearsofexperience + c - we have to implement this \r\n",
        "\r\n",
        "#regression start here \r\n",
        "\r\n",
        "from sklearn.linear_model import LinearRegression\r\n",
        "regressor = LinearRegression()\r\n",
        "regressor.fit(x_train, y_train)\r\n",
        "\r\n",
        "#prediction the test result\r\n",
        "\r\n",
        "y_pred = regressor.predict(x_test)\r\n",
        "y_pred = regressor.predict([[7]])\r\n",
        "print(y_pred)\r\n",
        "\r\n",
        "#ploting\r\n",
        "\r\n",
        "plt.scatter(x_train,y_train, color='red')\r\n",
        "plt.plot(x_train, regressor.predict(x_train), color = 'blue')\r\n",
        "plt.title('salary vs Experience  (Training set)' )\r\n",
        "plt.xlabel('years of experience')\r\n",
        "plt.ylabel('Salary')\r\n",
        "plt.show()\r\n",
        "\r\n",
        "#visulizing the Test set results\r\n",
        "\r\n",
        "plt.scatter(x_test,y_test, color='red')\r\n",
        "plt.plot(x_test, regressor.predict(x_test), color = 'blue')\r\n",
        "plt.title('salary vs Experience  (Test set)' )\r\n",
        "plt.xlabel('years of experience')\r\n",
        "plt.ylabel('Salary')\r\n",
        "plt.show()\r\n",
        "\r\n",
        "import pickle\r\n",
        "\r\n",
        "#save the trained model as a pickle string\r\n",
        "#saved_model = pickle.dumps(regressor,'xyz.pkl')\r\n",
        "#pickle.loads(saved_model)\r\n",
        "\r\n",
        "from sklearn.externals import  joblib\r\n",
        "\r\n",
        "joblib.dump(regressor,'filename.pkl')\r\n",
        "regressor_from_joblib = joblib.load('filename.pkl')\r\n",
        "\r\n",
        "y_pred1 = regressor.predict([[7]])\r\n",
        "print(y_pred1)\r\n"
      ],
      "execution_count": null,
      "outputs": [
        {
          "output_type": "stream",
          "text": [
            "<class 'pandas.core.frame.DataFrame'>\n",
            "RangeIndex: 30 entries, 0 to 29\n",
            "Data columns (total 2 columns):\n",
            " #   Column           Non-Null Count  Dtype  \n",
            "---  ------           --------------  -----  \n",
            " 0   YearsExperience  30 non-null     float64\n",
            " 1   Salary           30 non-null     float64\n",
            "dtypes: float64(2)\n",
            "memory usage: 608.0 bytes\n",
            "2\n",
            "1\n",
            "[92237.78934589]\n"
          ],
          "name": "stdout"
        },
        {
          "output_type": "display_data",
          "data": {
            "image/png": "[encoded data removed]",
            "text/plain": [
              "<Figure size 432x288 with 1 Axes>"
            ]
          },
          "metadata": {
            "tags": [],
            "needs_background": "light"
          }
        },
        {
          "output_type": "display_data",
          "data": {
            "image/png": "[encoded data removed]",
            "text/plain": [
              "<Figure size 432x288 with 1 Axes>"
            ]
          },
          "metadata": {
            "tags": [],
            "needs_background": "light"
          }
        },
        {
          "output_type": "stream",
          "text": [
            "[92237.78934589]\n"
          ],
          "name": "stdout"
        }
      ]
    },
    {
      "cell_type": "code",
      "metadata": {
        "colab": {
          "base_uri": "https://localhost:8080/"
        },
        "id": "xYq1eBcDlw2Y",
        "outputId": "64e9d5ba-e36c-4e3e-b5be-85c8d2decf0e"
      },
      "source": [
        "import pandas as pd\r\n",
        "import matplotlib.pyplot as plt\r\n",
        "dataset = pd.read_csv('/content/drive/MyDrive/Colab Notebooks/Dataset/dataset4.csv')\r\n",
        "\r\n",
        "#just for check\r\n",
        "\r\n",
        "dataset.shape\r\n",
        "dataset.info()\r\n",
        "\r\n",
        "#-------------------\r\n",
        "#split data set\r\n",
        "\r\n",
        "x = dataset.iloc[:, :-1].values\r\n",
        "y = dataset.iloc[:,4].values\r\n",
        "\r\n",
        "print(x.ndim)\r\n",
        "print(y.ndim)\r\n",
        "\r\n",
        "#-----------------------\r\n",
        "#split for training the model\r\n",
        "\r\n",
        "from sklearn.preprocessing import LabelEncoder, OneHotEncoder\r\n",
        "from sklearn.compose import  ColumnTransformer\r\n",
        "\r\n",
        "transform = ColumnTransformer([(\"State data\",OneHotEncoder(),[3])], remainder= 'passthrough')\r\n",
        "x = transform.fit_transform(x)\r\n",
        "\r\n",
        "x=x[:, 1:]\r\n",
        "\r\n",
        "from sklearn.model_selection import train_test_split\r\n",
        "x_train,x_test,y_train,y_test=train_test_split(x,y,test_size=0.2,random_state=0)\r\n",
        "\r\n",
        "# y = mx + c - simple linear regreesiom\r\n",
        "# y = m1x1 + m2x2 + m3x3 + ...+mnxn + c - multi linear regression\r\n",
        "# salary = m * Yearsofexperience + c - we have to implement this \r\n",
        "\r\n",
        "#regression start here \r\n",
        "\r\n",
        "from sklearn.linear_model import LinearRegression\r\n",
        "\r\n",
        "regressor = LinearRegression()\r\n",
        "regressor.fit(x_train, y_train)\r\n",
        "\r\n",
        "#prediction the test result\r\n",
        "\r\n",
        "y_pred = regressor.predict(x_test)\r\n",
        "print(y_pred)\r\n",
        "\r\n",
        "import pickle\r\n",
        "\r\n",
        "#save the trained model as a pickle string\r\n",
        "#saved_model = pickle.dumps(regressor,'xyz.pkl')\r\n",
        "#pickle.loads(saved_model)\r\n",
        "\r\n",
        "from sklearn.externals import  joblib\r\n",
        "\r\n",
        "joblib.dump(regressor,'filename.pkl')\r\n",
        "regressor_from_joblib = joblib.load('filename.pkl')\r\n",
        "\r\n",
        "\r\n"
      ],
      "execution_count": 10,
      "outputs": [
        {
          "output_type": "stream",
          "text": [
            "<class 'pandas.core.frame.DataFrame'>\n",
            "RangeIndex: 50 entries, 0 to 49\n",
            "Data columns (total 5 columns):\n",
            " #   Column           Non-Null Count  Dtype  \n",
            "---  ------           --------------  -----  \n",
            " 0   R&D Spend        50 non-null     float64\n",
            " 1   Administration   50 non-null     float64\n",
            " 2   Marketing Spend  50 non-null     float64\n",
            " 3   State            50 non-null     object \n",
            " 4   Profit           50 non-null     float64\n",
            "dtypes: float64(4), object(1)\n",
            "memory usage: 2.1+ KB\n",
            "2\n",
            "1\n",
            "[103015.20159796 132582.27760816 132447.73845175  71976.09851259\n",
            " 178537.48221054 116161.24230163  67851.69209676  98791.73374688\n",
            " 113969.43533012 167921.0656955 ]\n"
          ],
          "name": "stdout"
        }
      ]
    },
    {
      "cell_type": "code",
      "metadata": {
        "colab": {
          "base_uri": "https://localhost:8080/",
          "height": 751
        },
        "id": "K6sfm06jZJRl",
        "outputId": "a827e630-5ece-44cb-e3d8-04a2fb14722c"
      },
      "source": [
        "#polynomial and linear on same dataset regression\r\n",
        "\r\n",
        "import numpy as np\r\n",
        "import pandas as pd\r\n",
        "import matplotlib.pyplot as plt\r\n",
        "\r\n",
        "dataset = pd.read_csv('/content/drive/MyDrive/Colab Notebooks/Dataset/dataset5.csv')\r\n",
        "\r\n",
        "#just for check\r\n",
        "\r\n",
        "dataset.shape\r\n",
        "dataset.info()\r\n",
        "\r\n",
        "#-------------------\r\n",
        "#split data set\r\n",
        "\r\n",
        "x = dataset.iloc[:, 1:2].values\r\n",
        "y = dataset.iloc[:,-1].values\r\n",
        "\r\n",
        "\r\n",
        "#regression start here \r\n",
        "\r\n",
        "from sklearn.linear_model import LinearRegression\r\n",
        "\r\n",
        "lin_reg = LinearRegression()\r\n",
        "lin_reg.fit(x, y)\r\n",
        "\r\n",
        "#polynomial\r\n",
        "\r\n",
        "from sklearn.preprocessing import PolynomialFeatures\r\n",
        "poly_reg = PolynomialFeatures(degree = 2)\r\n",
        "x_poly = poly_reg.fit_transform(x)\r\n",
        "lin_reg_2 = LinearRegression()\r\n",
        "lin_reg_2.fit(x_poly, y)\r\n",
        "\r\n",
        "#graph of simple linear reg\r\n",
        "\r\n",
        "plt.scatter(x , y, color = 'red')\r\n",
        "plt.plot(x, lin_reg.predict(x),color= 'blue')\r\n",
        "plt.title('Truth opf Bluffn(Linear Regression')\r\n",
        "plt.xlabel('position label')\r\n",
        "plt.ylabel('salary')\r\n",
        "plt.show()\r\n",
        "\r\n",
        "plt.scatter(x , y, color = 'red')\r\n",
        "plt.plot(x, lin_reg_2.predict(poly_reg.fit_transform(x)),color= 'blue')\r\n",
        "plt.title('Truth opf Bluffn(Polynmial Regression')\r\n",
        "plt.xlabel('position label')\r\n",
        "plt.ylabel('salary')\r\n",
        "plt.show()\r\n"
      ],
      "execution_count": 16,
      "outputs": [
        {
          "output_type": "stream",
          "text": [
            "<class 'pandas.core.frame.DataFrame'>\n",
            "RangeIndex: 10 entries, 0 to 9\n",
            "Data columns (total 3 columns):\n",
            " #   Column    Non-Null Count  Dtype \n",
            "---  ------    --------------  ----- \n",
            " 0   Position  10 non-null     object\n",
            " 1   Level     10 non-null     int64 \n",
            " 2   Salary    10 non-null     int64 \n",
            "dtypes: int64(2), object(1)\n",
            "memory usage: 368.0+ bytes\n"
          ],
          "name": "stdout"
        },
        {
          "output_type": "display_data",
          "data": {
            "image/png": "[encoded data removed]",
            "text/plain": [
              "<Figure size 432x288 with 1 Axes>"
            ]
          },
          "metadata": {
            "tags": [],
            "needs_background": "light"
          }
        },
        {
          "output_type": "display_data",
          "data": {
            "image/png": "[encoded data removed]",
            "text/plain": [
              "<Figure size 432x288 with 1 Axes>"
            ]
          },
          "metadata": {
            "tags": [],
            "needs_background": "light"
          }
        }
      ]
    },
    {
      "cell_type": "code",
      "metadata": {
        "colab": {
          "base_uri": "https://localhost:8080/",
          "height": 473
        },
        "id": "yIVv7h3pfzvY",
        "outputId": "6eed9714-9a09-49b0-eb61-0e7550d4dae9"
      },
      "source": [
        "#polynomial regression\r\n",
        "\r\n",
        "import numpy as np\r\n",
        "import pandas as pd\r\n",
        "import matplotlib.pyplot as plt\r\n",
        "\r\n",
        "dataset = pd.read_csv('/content/drive/MyDrive/Colab Notebooks/Dataset/dataset5.csv')\r\n",
        "\r\n",
        "#just for check\r\n",
        "\r\n",
        "dataset.shape\r\n",
        "dataset.info()\r\n",
        "\r\n",
        "#-------------------\r\n",
        "#split data set\r\n",
        "\r\n",
        "x = dataset.iloc[:, 1:2].values\r\n",
        "y = dataset.iloc[:,-1].values\r\n",
        "\r\n",
        "#polynomial\r\n",
        "\r\n",
        "from sklearn.preprocessing import PolynomialFeatures\r\n",
        "poly_reg = PolynomialFeatures(degree = 4)\r\n",
        "x_poly = poly_reg.fit_transform(x)\r\n",
        "lin_reg_2 = LinearRegression()\r\n",
        "lin_reg_2.fit(x_poly, y)\r\n",
        "\r\n",
        "plt.scatter(x , y, color = 'red')\r\n",
        "plt.plot(x, lin_reg_2.predict(poly_reg.fit_transform(x)),color= 'blue')\r\n",
        "plt.title('Truth opf Bluffn(Polynmial Regression')\r\n",
        "plt.xlabel('position label')\r\n",
        "plt.ylabel('salary')\r\n",
        "plt.show()"
      ],
      "execution_count": 15,
      "outputs": [
        {
          "output_type": "stream",
          "text": [
            "<class 'pandas.core.frame.DataFrame'>\n",
            "RangeIndex: 10 entries, 0 to 9\n",
            "Data columns (total 3 columns):\n",
            " #   Column    Non-Null Count  Dtype \n",
            "---  ------    --------------  ----- \n",
            " 0   Position  10 non-null     object\n",
            " 1   Level     10 non-null     int64 \n",
            " 2   Salary    10 non-null     int64 \n",
            "dtypes: int64(2), object(1)\n",
            "memory usage: 368.0+ bytes\n"
          ],
          "name": "stdout"
        },
        {
          "output_type": "display_data",
          "data": {
            "image/png": "[encoded data removed]",
            "text/plain": [
              "<Figure size 432x288 with 1 Axes>"
            ]
          },
          "metadata": {
            "tags": [],
            "needs_background": "light"
          }
        }
      ]
    }
  ]
}