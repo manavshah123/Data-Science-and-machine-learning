{
  "nbformat": 4,
  "nbformat_minor": 0,
  "metadata": {
    "colab": {
      "name": "Logistic,K-NN,SVM Prac4_DSML.ipynb",
      "provenance": [],
      "mount_file_id": "1vzyHPlA-7xgz5vA9K7KVsGGjHCiN4E_q",
      "authorship_tag": "ABX9TyM7BEGEI6TDOeucFBtgoV0g",
      "include_colab_link": true
    },
    "kernelspec": {
      "name": "python3",
      "display_name": "Python 3"
    }
  },
  "cells": [
    {
      "cell_type": "markdown",
      "metadata": {
        "id": "view-in-github",
        "colab_type": "text"
      },
      "source": [
        "<a href=\"https://colab.research.google.com/github/manavshah123/Data-Science-and-machine-learning/blob/main/Logistic%2CK_NN%2CSVM_Prac4_DSML.ipynb\" target=\"_parent\"><img src=\"https://colab.research.google.com/assets/colab-badge.svg\" alt=\"Open In Colab\"/></a>"
      ]
    },
    {
      "cell_type": "code",
      "metadata": {
        "colab": {
          "base_uri": "https://localhost:8080/"
        },
        "id": "JLxUwNo3bJxO",
        "outputId": "95aeea21-4509-462d-eeae-26e7051c689e"
      },
      "source": [
        "import pandas as pd\r\n",
        "import matplotlib.pyplot as plt\r\n",
        "import numpy as np\r\n",
        "\r\n",
        "dataset = pd.read_csv('/content/drive/MyDrive/Colab Notebooks/Dataset/Social_Network_Ads.csv')\r\n",
        "\r\n",
        "print(\"LogisticRegression\")\r\n",
        "#just for check\r\n",
        "\r\n",
        "#dataset.shape\r\n",
        "#dataset.info()\r\n",
        "\r\n",
        "#split data set\r\n",
        "\r\n",
        "x = dataset.iloc[:, [2,3]].values\r\n",
        "y = dataset.iloc[:,4].values\r\n",
        "\r\n",
        "#spliting dataset in training and test\r\n",
        "from sklearn.model_selection import train_test_split\r\n",
        "x_train, x_test, y_train, y_test =train_test_split(x,y,test_size=0.25,random_state=0)\r\n",
        "\r\n",
        "from sklearn.preprocessing import StandardScaler\r\n",
        "sc_x = StandardScaler()\r\n",
        "x_train = sc_x.fit_transform(x_train)\r\n",
        "x_test = sc_x.transform(x_test)\r\n",
        "\r\n",
        "#fitting logistic regression to the training set\r\n",
        "from sklearn.linear_model import LogisticRegression\r\n",
        "classifier = LogisticRegression(random_state = 0)\r\n",
        "classifier.fit(x_train, y_train)\r\n",
        "\r\n",
        "#predicting the Test set result\r\n",
        "y_pred = classifier.predict(x_test)\r\n",
        "\r\n",
        "#making the confusion matrix\r\n",
        "from sklearn.metrics import confusion_matrix\r\n",
        "cm = confusion_matrix(y_test, y_pred)\r\n",
        "\r\n",
        "print((cm[0][0]+cm[1][1])/(cm[0][0]+cm[0][1]+cm[1][0]+cm[1][1]) * 100)\r\n",
        "\r\n",
        "from sklearn.metrics import classification_report\r\n",
        "print(classification_report(y_test, y_pred))\r\n"
      ],
      "execution_count": null,
      "outputs": [
        {
          "output_type": "stream",
          "text": [
            "LogisticRegression\n",
            "89.0\n",
            "              precision    recall  f1-score   support\n",
            "\n",
            "           0       0.89      0.96      0.92        68\n",
            "           1       0.89      0.75      0.81        32\n",
            "\n",
            "    accuracy                           0.89       100\n",
            "   macro avg       0.89      0.85      0.87       100\n",
            "weighted avg       0.89      0.89      0.89       100\n",
            "\n"
          ],
          "name": "stdout"
        }
      ]
    },
    {
      "cell_type": "code",
      "metadata": {
        "colab": {
          "base_uri": "https://localhost:8080/"
        },
        "id": "8f6iOovmjtjg",
        "outputId": "26e4d7b6-b379-48d4-b479-1bc2394397f9"
      },
      "source": [
        "##### K-NN k nearest neighbourhood\r\n",
        "\r\n",
        "import pandas as pd\r\n",
        "import matplotlib.pyplot as plt\r\n",
        "import numpy as np\r\n",
        "\r\n",
        "dataset = pd.read_csv('/content/drive/MyDrive/Colab Notebooks/Dataset/Social_Network_Ads.csv')\r\n",
        "\r\n",
        "#just for check\r\n",
        "\r\n",
        "#dataset.shape\r\n",
        "#dataset.info()\r\n",
        "print(\"K-NN k nearest neighbourhood\")\r\n",
        "#split data set\r\n",
        "\r\n",
        "x = dataset.iloc[:, [2,3]].values\r\n",
        "y = dataset.iloc[:,4].values\r\n",
        "\r\n",
        "#spliting dataset in training and test\r\n",
        "from sklearn.model_selection import train_test_split\r\n",
        "x_train, x_test, y_train, y_test =train_test_split(x,y,test_size=0.25,random_state=0)\r\n",
        "\r\n",
        "from sklearn.preprocessing import StandardScaler\r\n",
        "sc_x = StandardScaler()\r\n",
        "x_train = sc_x.fit_transform(x_train)\r\n",
        "x_test = sc_x.transform(x_test)\r\n",
        "\r\n",
        "from sklearn.neighbors import  KNeighborsClassifier\r\n",
        "classifier = KNeighborsClassifier(n_neighbors = 5, metric = 'minkowski', p = 2)\r\n",
        "classifier.fit(x_train, y_train)\r\n",
        "\r\n",
        "#predicting the Test set result\r\n",
        "y_pred = classifier.predict(x_test)\r\n",
        "\r\n",
        "#making the confusion matrix\r\n",
        "from sklearn.metrics import confusion_matrix\r\n",
        "cm = confusion_matrix(y_test, y_pred)\r\n",
        "\r\n",
        "print((cm[0][0]+cm[1][1])/(cm[0][0]+cm[0][1]+cm[1][0]+cm[1][1]) * 100)\r\n",
        "\r\n",
        "from sklearn.metrics import classification_report\r\n",
        "print(classification_report(y_test, y_pred))\r\n"
      ],
      "execution_count": null,
      "outputs": [
        {
          "output_type": "stream",
          "text": [
            "K-NN k nearest neighbourhood\n",
            "93.0\n",
            "              precision    recall  f1-score   support\n",
            "\n",
            "           0       0.96      0.94      0.95        68\n",
            "           1       0.88      0.91      0.89        32\n",
            "\n",
            "    accuracy                           0.93       100\n",
            "   macro avg       0.92      0.92      0.92       100\n",
            "weighted avg       0.93      0.93      0.93       100\n",
            "\n"
          ],
          "name": "stdout"
        }
      ]
    },
    {
      "cell_type": "code",
      "metadata": {
        "colab": {
          "base_uri": "https://localhost:8080/"
        },
        "id": "xchJZSVIqkUf",
        "outputId": "8c684835-8074-4b11-c94e-b24cb705076c"
      },
      "source": [
        "##### SVM\r\n",
        "\r\n",
        "import pandas as pd\r\n",
        "import matplotlib.pyplot as plt\r\n",
        "import numpy as np\r\n",
        "\r\n",
        "dataset = pd.read_csv('/content/drive/MyDrive/Colab Notebooks/Dataset/Social_Network_Ads.csv')\r\n",
        "\r\n",
        "print(\"SVM\")\r\n",
        "#split data set\r\n",
        "\r\n",
        "x = dataset.iloc[:, [2,3]].values\r\n",
        "y = dataset.iloc[:,4].values\r\n",
        "\r\n",
        "#spliting dataset in training and test\r\n",
        "from sklearn.model_selection import train_test_split\r\n",
        "x_train, x_test, y_train, y_test =train_test_split(x,y,test_size=0.25,random_state=0)\r\n",
        "\r\n",
        "from sklearn.preprocessing import StandardScaler\r\n",
        "sc_x = StandardScaler()\r\n",
        "x_train = sc_x.fit_transform(x_train)\r\n",
        "x_test = sc_x.transform(x_test)\r\n",
        "\r\n",
        "from sklearn.svm import SVC\r\n",
        "classifier = SVC(kernel = 'linear', random_state = 0)\r\n",
        "classifier.fit(x_train, y_train)\r\n",
        "\r\n",
        "#predicting the Test set result\r\n",
        "y_pred = classifier.predict(x_test)\r\n",
        "\r\n",
        "#making the confusion matrix\r\n",
        "from sklearn.metrics import confusion_matrix\r\n",
        "cm = confusion_matrix(y_test, y_pred)\r\n",
        "\r\n",
        "print((cm[0][0]+cm[1][1])/(cm[0][0]+cm[0][1]+cm[1][0]+cm[1][1]) * 100)\r\n",
        "\r\n",
        "from sklearn.metrics import classification_report\r\n",
        "print(classification_report(y_test, y_pred))\r\n"
      ],
      "execution_count": null,
      "outputs": [
        {
          "output_type": "stream",
          "text": [
            "SVM\n",
            "90.0\n",
            "              precision    recall  f1-score   support\n",
            "\n",
            "           0       0.89      0.97      0.93        68\n",
            "           1       0.92      0.75      0.83        32\n",
            "\n",
            "    accuracy                           0.90       100\n",
            "   macro avg       0.91      0.86      0.88       100\n",
            "weighted avg       0.90      0.90      0.90       100\n",
            "\n"
          ],
          "name": "stdout"
        }
      ]
    },
    {
      "cell_type": "code",
      "metadata": {
        "id": "61dTXF_GtBxw"
      },
      "source": [
        "#homework \r\n",
        "#naive bayes\r\n",
        "#dicison tree\r\n",
        "#random forest"
      ],
      "execution_count": null,
      "outputs": []
    },
    {
      "cell_type": "code",
      "metadata": {
        "id": "PKB5ATYltFIn"
      },
      "source": [
        ""
      ],
      "execution_count": null,
      "outputs": []
    }
  ]
}